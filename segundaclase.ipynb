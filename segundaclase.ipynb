{
  "nbformat": 4,
  "nbformat_minor": 0,
  "metadata": {
    "colab": {
      "name": "segundaclase.ipynb",
      "provenance": [],
      "authorship_tag": "ABX9TyOZpaGNKxwJJhQgya/KZAps",
      "include_colab_link": true
    },
    "kernelspec": {
      "name": "python3",
      "display_name": "Python 3"
    }
  },
  "cells": [
    {
      "cell_type": "markdown",
      "metadata": {
        "id": "view-in-github",
        "colab_type": "text"
      },
      "source": [
        "<a href=\"https://colab.research.google.com/github/intinazca/intinazk/blob/master/segundaclase.ipynb\" target=\"_parent\"><img src=\"https://colab.research.google.com/assets/colab-badge.svg\" alt=\"Open In Colab\"/></a>"
      ]
    },
    {
      "cell_type": "code",
      "metadata": {
        "id": "4cJFsH2ds4je",
        "colab_type": "code",
        "colab": {}
      },
      "source": [
        "import cv2\n",
        "import tensorflow\n",
        "import torch\n",
        "import numpy\n"
      ],
      "execution_count": 0,
      "outputs": []
    },
    {
      "cell_type": "code",
      "metadata": {
        "id": "FmD3FZ7mwK0F",
        "colab_type": "code",
        "colab": {
          "base_uri": "https://localhost:8080/",
          "height": 34
        },
        "outputId": "da1bda0d-dbfe-46b2-e535-6e36b2dc0e2c"
      },
      "source": [
        "x=0\n",
        "print(\"Oli=\",x)"
      ],
      "execution_count": 9,
      "outputs": [
        {
          "output_type": "stream",
          "text": [
            "Oli= 0\n"
          ],
          "name": "stdout"
        }
      ]
    },
    {
      "cell_type": "code",
      "metadata": {
        "id": "vK1OkAwhzIg5",
        "colab_type": "code",
        "colab": {
          "base_uri": "https://localhost:8080/",
          "height": 51
        },
        "outputId": "05d37b8a-07ec-4249-d503-b399204507ab"
      },
      "source": [
        "y=[1,2,3,4,5] \n",
        "print (y[0])\n",
        "y[0]=10\n",
        "print (y)"
      ],
      "execution_count": 12,
      "outputs": [
        {
          "output_type": "stream",
          "text": [
            "1\n",
            "[10, 2, 3, 4, 5]\n"
          ],
          "name": "stdout"
        }
      ]
    },
    {
      "cell_type": "code",
      "metadata": {
        "id": "kfGY2Wbt0n-h",
        "colab_type": "code",
        "colab": {
          "base_uri": "https://localhost:8080/",
          "height": 68
        },
        "outputId": "fbc87e06-38be-4508-a38d-448a74aab8f6"
      },
      "source": [
        "y.append(-5)\n",
        "print (y)\n",
        "del y[0]\n",
        "print (y)\n",
        "y.remove(4)\n",
        "print (y)\n"
      ],
      "execution_count": 16,
      "outputs": [
        {
          "output_type": "stream",
          "text": [
            "[2, 3, 4, 5, -5, -5, -5]\n",
            "[3, 4, 5, -5, -5, -5]\n",
            "[3, 5, -5, -5, -5]\n"
          ],
          "name": "stdout"
        }
      ]
    },
    {
      "cell_type": "markdown",
      "metadata": {
        "id": "PM_0DiNV04NB",
        "colab_type": "text"
      },
      "source": [
        ".appen es para agregar cosas a mi lista\n",
        "dell es para borrar la posicion de la lista, no el numero pero igual se va el numero por descarte.\n",
        "del borrar es el numero pero no la posicion."
      ]
    },
    {
      "cell_type": "code",
      "metadata": {
        "id": "H1vLhvd91tNr",
        "colab_type": "code",
        "colab": {
          "base_uri": "https://localhost:8080/",
          "height": 34
        },
        "outputId": "719a6ba0-36cf-461f-fce6-acf4f6400280"
      },
      "source": [
        "z=[2,2,2,4,5,6]\n",
        "z.remove(2)\n",
        "print (z)"
      ],
      "execution_count": 18,
      "outputs": [
        {
          "output_type": "stream",
          "text": [
            "[2, 2, 4, 5, 6]\n"
          ],
          "name": "stdout"
        }
      ]
    },
    {
      "cell_type": "markdown",
      "metadata": {
        "id": "eY8fTCGG2Eyr",
        "colab_type": "text"
      },
      "source": [
        "funciones def\n",
        "los metodos se aren cuando quedan indentados porque no hay corchetes"
      ]
    },
    {
      "cell_type": "code",
      "metadata": {
        "id": "ZN7eIsQN2GLD",
        "colab_type": "code",
        "colab": {
          "base_uri": "https://localhost:8080/",
          "height": 34
        },
        "outputId": "95b88ad5-5c27-4786-fc6e-55b51cf9986c"
      },
      "source": [
        "def suma (a,b):\n",
        "  s=a+b\n",
        "  return s\n",
        "\n",
        "suma(5,7)\n"
      ],
      "execution_count": 22,
      "outputs": [
        {
          "output_type": "execute_result",
          "data": {
            "text/plain": [
              "12"
            ]
          },
          "metadata": {
            "tags": []
          },
          "execution_count": 22
        }
      ]
    },
    {
      "cell_type": "code",
      "metadata": {
        "id": "iOeWxfHD31yi",
        "colab_type": "code",
        "colab": {
          "base_uri": "https://localhost:8080/",
          "height": 51
        },
        "outputId": "47e4d86f-f146-43cb-8291-c3e67776a10c"
      },
      "source": [
        "\n",
        "def perimetro (a):\n",
        "  p=a*4\n",
        "  return p\n",
        "\n",
        "perimetro (2)\n",
        "\n",
        "def area (c):\n",
        "  t= c*c\n",
        "  return t\n",
        "\n",
        "area (4)\n",
        "\n",
        "print(\"Perimetro: \",perimetro(2))\n",
        "print(\"Area: \",area(2))\n",
        "\n",
        "\n",
        "\n"
      ],
      "execution_count": 33,
      "outputs": [
        {
          "output_type": "stream",
          "text": [
            "Perimetro:  8\n",
            "Area:  4\n"
          ],
          "name": "stdout"
        }
      ]
    },
    {
      "cell_type": "code",
      "metadata": {
        "id": "VjLRXl5N5tut",
        "colab_type": "code",
        "colab": {
          "base_uri": "https://localhost:8080/",
          "height": 34
        },
        "outputId": "bdd9291c-5e59-43c3-8a82-3d2f2438de03"
      },
      "source": [
        "def cuadrado(a,c):\n",
        "\n",
        "  return perimetro(a),area(c)\n",
        "\n",
        "\n",
        "print(\"Perimetro y Area\", cuadrado(2,4))"
      ],
      "execution_count": 45,
      "outputs": [
        {
          "output_type": "stream",
          "text": [
            "Perimetro y Area (8, 16)\n"
          ],
          "name": "stdout"
        }
      ]
    },
    {
      "cell_type": "markdown",
      "metadata": {
        "id": "cl9Ubncg-92O",
        "colab_type": "text"
      },
      "source": [
        "rectangulo\n"
      ]
    },
    {
      "cell_type": "code",
      "metadata": {
        "id": "nZdfbQEh--9a",
        "colab_type": "code",
        "colab": {
          "base_uri": "https://localhost:8080/",
          "height": 34
        },
        "outputId": "a9199ace-3091-4711-aa79-168f79c6179f"
      },
      "source": [
        "def area(b,h):\n",
        "  x=b*h\n",
        "  return x\n",
        "\n",
        "area (4,2)\n",
        "\n",
        "def perimetro(b,h):\n",
        "  y=2*(b+h)\n",
        "  return y\n",
        "\n",
        "def rectangulo(b,h):\n",
        "  return area(b,h),perimetro(b,h)\n",
        "\n",
        "perimetro (4,2)\n",
        "print(\"Area y perimetro: \" ,rectangulo (2,4))\n"
      ],
      "execution_count": 52,
      "outputs": [
        {
          "output_type": "stream",
          "text": [
            "Area y perimetro:  (8, 12)\n"
          ],
          "name": "stdout"
        }
      ]
    },
    {
      "cell_type": "code",
      "metadata": {
        "id": "NXSBWzNfArCV",
        "colab_type": "code",
        "colab": {}
      },
      "source": [
        "def vago():\n",
        "  pass"
      ],
      "execution_count": 0,
      "outputs": []
    }
  ]
}